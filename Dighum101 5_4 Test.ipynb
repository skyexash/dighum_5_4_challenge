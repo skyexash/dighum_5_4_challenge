{
 "cells": [
  {
   "cell_type": "code",
   "execution_count": 8,
   "id": "5871bacc",
   "metadata": {},
   "outputs": [
    {
     "name": "stdout",
     "output_type": "stream",
     "text": [
      "['dighum101', 'is', 'cool!']\n"
     ]
    },
    {
     "data": {
      "text/plain": [
       "function"
      ]
     },
     "execution_count": 8,
     "metadata": {},
     "output_type": "execute_result"
    }
   ],
   "source": [
    "def token(text):\n",
    "    list=[]\n",
    "    text = text.lower()\n",
    "    new_string = text.split(' ')\n",
    "    for x in new_string: \n",
    "        list.append(x.strip())\n",
    "    return list\n",
    "\n",
    "print(token(\"Dighum101 is cool!\")) \n",
    "type(token)"
   ]
  },
  {
   "cell_type": "code",
   "execution_count": null,
   "id": "6b867add",
   "metadata": {},
   "outputs": [],
   "source": []
  }
 ],
 "metadata": {
  "kernelspec": {
   "display_name": "Python 3 (ipykernel)",
   "language": "python",
   "name": "python3"
  },
  "language_info": {
   "codemirror_mode": {
    "name": "ipython",
    "version": 3
   },
   "file_extension": ".py",
   "mimetype": "text/x-python",
   "name": "python",
   "nbconvert_exporter": "python",
   "pygments_lexer": "ipython3",
   "version": "3.10.11"
  }
 },
 "nbformat": 4,
 "nbformat_minor": 5
}
